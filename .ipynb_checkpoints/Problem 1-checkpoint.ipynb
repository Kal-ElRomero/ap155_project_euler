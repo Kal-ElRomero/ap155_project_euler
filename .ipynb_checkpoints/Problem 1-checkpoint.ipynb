{
 "cells": [
  {
   "cell_type": "markdown",
   "id": "9c85f502-16ea-4159-8a3a-9e949dd713e0",
   "metadata": {},
   "source": [
    "Input an integer, this will be the limit - below this number are the multiples of 3 and 5 to be added."
   ]
  },
  {
   "cell_type": "code",
   "execution_count": 28,
   "id": "ffe36e3e-ed73-48bc-aefa-62879cb6bc63",
   "metadata": {},
   "outputs": [
    {
     "name": "stdin",
     "output_type": "stream",
     "text": [
      "Multiples of 3 and 5 below what number? 1000\n"
     ]
    },
    {
     "name": "stdout",
     "output_type": "stream",
     "text": [
      "1000\n"
     ]
    }
   ],
   "source": [
    "inPrompt = input(\"Multiples of 3 and 5 below what number?\")\n",
    "limit = int(inPrompt)\n",
    "print(limit)"
   ]
  },
  {
   "cell_type": "markdown",
   "id": "f9c721d1-ac69-4b36-94c0-eb71bab7a58c",
   "metadata": {},
   "source": [
    "Initialize the starting number \"x\" and the sum of the multiples \"sum\""
   ]
  },
  {
   "cell_type": "code",
   "execution_count": null,
   "id": "dc1fe3c9-4190-44b6-a5c2-dd6b117cfb4c",
   "metadata": {},
   "outputs": [],
   "source": [
    "x = 1\n",
    "sum = 0"
   ]
  },
  {
   "cell_type": "markdown",
   "id": "5878470f-02a9-4287-8865-1f7293a027bf",
   "metadata": {},
   "source": [
    "Use a while loop to go through every number below the limit and pick those that are multiples of 3 or 5"
   ]
  },
  {
   "cell_type": "code",
   "execution_count": 29,
   "id": "aae62182-6fc3-4b9f-aaae-39bf04db3c9d",
   "metadata": {},
   "outputs": [],
   "source": [
    "while x < limit: \n",
    "    if x % 3 == 0 or x % 5 == 0:\n",
    "        sum = sum + x\n",
    "    x = x + 1  "
   ]
  },
  {
   "cell_type": "code",
   "execution_count": 30,
   "id": "2deaaf39-0024-4610-b950-a07f83388630",
   "metadata": {},
   "outputs": [
    {
     "name": "stdout",
     "output_type": "stream",
     "text": [
      "233168\n"
     ]
    }
   ],
   "source": [
    "print(sum)"
   ]
  }
 ],
 "metadata": {
  "kernelspec": {
   "display_name": "Python [conda env:APISS]",
   "language": "python",
   "name": "conda-env-APISS-py"
  },
  "language_info": {
   "codemirror_mode": {
    "name": "ipython",
    "version": 3
   },
   "file_extension": ".py",
   "mimetype": "text/x-python",
   "name": "python",
   "nbconvert_exporter": "python",
   "pygments_lexer": "ipython3",
   "version": "3.13.5"
  }
 },
 "nbformat": 4,
 "nbformat_minor": 5
}
