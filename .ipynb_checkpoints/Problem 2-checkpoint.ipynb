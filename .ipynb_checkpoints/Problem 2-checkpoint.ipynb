{
 "cells": [
  {
   "cell_type": "code",
   "execution_count": 22,
   "id": "6b5bf547-7a90-4e3d-9635-35a0f50721f4",
   "metadata": {},
   "outputs": [
    {
     "name": "stdin",
     "output_type": "stream",
     "text": [
      "Fibonacci Numbers less than what number? 4000000\n"
     ]
    }
   ],
   "source": [
    "inPrompt = input(\"Fibonacci Numbers less than what number?\")\n",
    "limit = int(inPrompt)"
   ]
  },
  {
   "cell_type": "code",
   "execution_count": 23,
   "id": "014d1028-031e-4bc5-9e13-bf47b881dce9",
   "metadata": {},
   "outputs": [],
   "source": [
    "x = 1\n",
    "y = 2\n",
    "z = x + y\n",
    "evenSum = 2"
   ]
  },
  {
   "cell_type": "code",
   "execution_count": 24,
   "id": "01b723a8-4cf5-4335-9b34-519648a3fb06",
   "metadata": {},
   "outputs": [],
   "source": [
    "while z < limit:\n",
    "    if z % 2 == 0:\n",
    "        evenSum += z\n",
    "    x = y\n",
    "    y = z\n",
    "    z = x + y\n",
    "    "
   ]
  },
  {
   "cell_type": "code",
   "execution_count": 25,
   "id": "aec2130a-f273-41d2-91ea-c8701e910539",
   "metadata": {},
   "outputs": [
    {
     "name": "stdout",
     "output_type": "stream",
     "text": [
      "4613732\n"
     ]
    }
   ],
   "source": [
    "print(evenSum)"
   ]
  }
 ],
 "metadata": {
  "kernelspec": {
   "display_name": "Python [conda env:APISS]",
   "language": "python",
   "name": "conda-env-APISS-py"
  },
  "language_info": {
   "codemirror_mode": {
    "name": "ipython",
    "version": 3
   },
   "file_extension": ".py",
   "mimetype": "text/x-python",
   "name": "python",
   "nbconvert_exporter": "python",
   "pygments_lexer": "ipython3",
   "version": "3.13.5"
  }
 },
 "nbformat": 4,
 "nbformat_minor": 5
}
