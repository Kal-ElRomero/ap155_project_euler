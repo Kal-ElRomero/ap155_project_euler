{
 "cells": [
  {
   "cell_type": "markdown",
   "id": "fa70b650-a2d5-4022-a6b3-ed5c3fbbebf6",
   "metadata": {},
   "source": [
    "Input an integer, this will be the limit - below this number are the even-number Fibonacci numbers to be added"
   ]
  },
  {
   "cell_type": "code",
   "execution_count": 22,
   "id": "6b5bf547-7a90-4e3d-9635-35a0f50721f4",
   "metadata": {},
   "outputs": [
    {
     "name": "stdin",
     "output_type": "stream",
     "text": [
      "Fibonacci Numbers less than what number? 4000000\n"
     ]
    }
   ],
   "source": [
    "inPrompt = input(\"Fibonacci Numbers less than what number?\")\n",
    "limit = int(inPrompt)"
   ]
  },
  {
   "cell_type": "markdown",
   "id": "cae35d43-e3f4-4e35-b6d6-c5ffd2400d7d",
   "metadata": {},
   "source": [
    "Initialize the variables for the first three Fibonacci numbers and the sum of all existing even Fibonacci numbers"
   ]
  },
  {
   "cell_type": "code",
   "execution_count": 23,
   "id": "014d1028-031e-4bc5-9e13-bf47b881dce9",
   "metadata": {},
   "outputs": [],
   "source": [
    "x = 1\n",
    "y = 2\n",
    "z = x + y\n",
    "evenSum = 2"
   ]
  },
  {
   "cell_type": "markdown",
   "id": "e392b5c6-1d4c-4085-8bbf-f6b139325141",
   "metadata": {},
   "source": [
    "Use a while loop to build the Fibonacci numbers, checking for even ones at the beginning of every cycle"
   ]
  },
  {
   "cell_type": "code",
   "execution_count": 24,
   "id": "01b723a8-4cf5-4335-9b34-519648a3fb06",
   "metadata": {},
   "outputs": [],
   "source": [
    "while z < limit:\n",
    "    if z % 2 == 0:\n",
    "        evenSum += z\n",
    "    x = y\n",
    "    y = z\n",
    "    z = x + y\n",
    "    "
   ]
  },
  {
   "cell_type": "code",
   "execution_count": 25,
   "id": "aec2130a-f273-41d2-91ea-c8701e910539",
   "metadata": {},
   "outputs": [
    {
     "name": "stdout",
     "output_type": "stream",
     "text": [
      "4613732\n"
     ]
    }
   ],
   "source": [
    "print(evenSum)"
   ]
  }
 ],
 "metadata": {
  "kernelspec": {
   "display_name": "Python [conda env:APISS]",
   "language": "python",
   "name": "conda-env-APISS-py"
  },
  "language_info": {
   "codemirror_mode": {
    "name": "ipython",
    "version": 3
   },
   "file_extension": ".py",
   "mimetype": "text/x-python",
   "name": "python",
   "nbconvert_exporter": "python",
   "pygments_lexer": "ipython3",
   "version": "3.13.5"
  }
 },
 "nbformat": 4,
 "nbformat_minor": 5
}
