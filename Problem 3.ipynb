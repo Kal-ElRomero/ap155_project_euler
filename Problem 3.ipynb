{
 "cells": [
  {
   "cell_type": "markdown",
   "id": "554e5379-be22-422b-806c-b5f0665fa86f",
   "metadata": {},
   "source": [
    "Input an integer, we find the largest prime factor of this number"
   ]
  },
  {
   "cell_type": "code",
   "execution_count": 1,
   "id": "b28ff56b-801f-4bae-a622-f62edebd454d",
   "metadata": {},
   "outputs": [
    {
     "name": "stdin",
     "output_type": "stream",
     "text": [
      "prime factors less than what number? 23434234\n"
     ]
    }
   ],
   "source": [
    "inPrompt = input(\"prime factors less than what number?\")\n",
    "num = int(inPrompt)"
   ]
  },
  {
   "cell_type": "markdown",
   "id": "08124b8b-ce2e-4dc2-b2ae-9b6f76c723d4",
   "metadata": {},
   "source": [
    "Initialize the variable to be checked if it is a factor or not. We start from the top, the inputted number itself"
   ]
  },
  {
   "cell_type": "code",
   "execution_count": 2,
   "id": "d7b65f63-4743-4205-8441-747a2c2eb9c3",
   "metadata": {},
   "outputs": [],
   "source": [
    "divisor = num"
   ]
  },
  {
   "cell_type": "markdown",
   "id": "098ec812-65ac-480e-89f5-aaef2180af8f",
   "metadata": {},
   "source": [
    "Make a function that checks whether a number is prime or not"
   ]
  },
  {
   "cell_type": "code",
   "execution_count": 3,
   "id": "69e23bc2-6c59-4428-a0f9-6e45f59fdb5c",
   "metadata": {},
   "outputs": [],
   "source": [
    "def primecheck(input_number):\n",
    "    my_factors = []\n",
    "    divisor2 = input_number\n",
    "    while divisor2 > 1:\n",
    "        remainder2 = input_number % divisor2\n",
    "        if remainder2 == 0:   \n",
    "            my_factors.append(divisor2)\n",
    "        divisor2 = divisor2 - 1\n",
    "\n",
    "    if len(my_factors) == 1:\n",
    "        return True # it is indeed prime\n",
    "    else:\n",
    "        return False # factors is not empty, so not prime"
   ]
  },
  {
   "cell_type": "markdown",
   "id": "6fbb0e12-cb13-4bcf-ade1-6c63b40dff3d",
   "metadata": {},
   "source": [
    "Make our way down through every number, checking if its a factor or not. The first verified factor that is also a prime number is the largest prime factor."
   ]
  },
  {
   "cell_type": "code",
   "execution_count": 4,
   "id": "86a47b61-c963-48b9-980b-0e955ab346d9",
   "metadata": {},
   "outputs": [
    {
     "name": "stdout",
     "output_type": "stream",
     "text": [
      "761\n"
     ]
    }
   ],
   "source": [
    "while True:\n",
    "    remainder = limit % divisor\n",
    "    if remainder == 0:       \n",
    "        if primecheck(divisor) == True:\n",
    "            largestPrimeFactor = divisor\n",
    "            break\n",
    "    divisor = divisor - 1\n",
    "\n",
    "print(largestPrimeFactor)\n"
   ]
  },
  {
   "cell_type": "code",
   "execution_count": null,
   "id": "ef4e3d59-b2ba-4996-bca4-f0c70a3e63fa",
   "metadata": {},
   "outputs": [],
   "source": []
  }
 ],
 "metadata": {
  "kernelspec": {
   "display_name": "Python [conda env:APISS]",
   "language": "python",
   "name": "conda-env-APISS-py"
  },
  "language_info": {
   "codemirror_mode": {
    "name": "ipython",
    "version": 3
   },
   "file_extension": ".py",
   "mimetype": "text/x-python",
   "name": "python",
   "nbconvert_exporter": "python",
   "pygments_lexer": "ipython3",
   "version": "3.13.5"
  }
 },
 "nbformat": 4,
 "nbformat_minor": 5
}
